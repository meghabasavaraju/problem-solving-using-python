{
 "cells": [
  {
   "cell_type": "markdown",
   "metadata": {},
   "source": [
    "write a code  which prints the following for the range n (given input)\n",
    "print  \"meg \" for the numbers which is divisible by 11 and 7\n",
    "print  \"megs \" for the numbers which is divisible by  7\n",
    "print  \"meg \" for the numbers which is divisible by 11 and 7\n",
    "    \n",
    "    "
   ]
  },
  {
   "cell_type": "code",
   "execution_count": 5,
   "metadata": {},
   "outputs": [
    {
     "name": "stdout",
     "output_type": "stream",
     "text": [
      "15\n",
      "1\n",
      "2\n",
      "3\n",
      "4\n",
      "5\n",
      "6\n",
      "megs\n",
      "8\n",
      "9\n",
      "10\n",
      "megha\n",
      "12\n",
      "13\n",
      "megs\n",
      "15\n"
     ]
    }
   ],
   "source": [
    "n= int(input())\n",
    "for i in range(1,n+1):\n",
    "    if i%7==0 and i%11==0:\n",
    "        print(\"meg\")\n",
    "    elif i%7==0:\n",
    "        print(\"megs\")\n",
    "    elif i%11==0:\n",
    "        print(\"megha\")\n",
    "    else:\n",
    "        print(i) "
   ]
  },
  {
   "cell_type": "code",
   "execution_count": null,
   "metadata": {},
   "outputs": [],
   "source": []
  },
  {
   "cell_type": "code",
   "execution_count": null,
   "metadata": {},
   "outputs": [],
   "source": []
  }
 ],
 "metadata": {
  "kernelspec": {
   "display_name": "Python 3",
   "language": "python",
   "name": "python3"
  },
  "language_info": {
   "codemirror_mode": {
    "name": "ipython",
    "version": 3
   },
   "file_extension": ".py",
   "mimetype": "text/x-python",
   "name": "python",
   "nbconvert_exporter": "python",
   "pygments_lexer": "ipython3",
   "version": "3.7.6"
  }
 },
 "nbformat": 4,
 "nbformat_minor": 4
}
