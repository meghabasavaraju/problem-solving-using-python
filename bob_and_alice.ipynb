{
 "cells": [
  {
   "cell_type": "code",
   "execution_count": null,
   "metadata": {},
   "outputs": [
    {
     "name": "stdout",
     "output_type": "stream",
     "text": [
      "12 13 14\n"
     ]
    }
   ],
   "source": [
    "A=input()\n",
    "B=input()\n",
    "c=A.split()\n",
    "d=B.split()\n",
    "anum=0\n",
    "bnum=0\n",
    "if (len(c)==3 and len(d)==3):\n",
    "    for i in range(3):\n",
    "        if ((int(c[i])>(int(d[i]))) and ((int(c[i])<100))):\n",
    "            anum+=1\n",
    "        elif ((int(d[i])>(int(c[i]))) and ((int(d[i])<100))):\n",
    "            bnum+=1\n",
    "print(anum,bnum)\n",
    "        \n"
   ]
  },
  {
   "cell_type": "code",
   "execution_count": null,
   "metadata": {},
   "outputs": [],
   "source": [
    "A= input()\n",
    "B= input()\n",
    "C=A.split()\n",
    "D=B.split()\n",
    "numA=0\n",
    "numB=0\n",
    "if(len(C)==3 and len(D)==3):\n",
    "    for i in range(3):\n",
    "        if(((int (C[i]))<(int (D[i]))) and ((int (D[i]))<100)):\n",
    "            numB+=1\n",
    "        elif(((int (C[i]))>(int (D[i]))) and ((int (C[i]))<100)):\n",
    "            numA+=1\n",
    "print(numA,numB)"
   ]
  },
  {
   "cell_type": "code",
   "execution_count": null,
   "metadata": {},
   "outputs": [],
   "source": []
  }
 ],
 "metadata": {
  "kernelspec": {
   "display_name": "Python 3",
   "language": "python",
   "name": "python3"
  },
  "language_info": {
   "codemirror_mode": {
    "name": "ipython",
    "version": 3
   },
   "file_extension": ".py",
   "mimetype": "text/x-python",
   "name": "python",
   "nbconvert_exporter": "python",
   "pygments_lexer": "ipython3",
   "version": "3.7.6"
  }
 },
 "nbformat": 4,
 "nbformat_minor": 4
}
