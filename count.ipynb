{
 "cells": [
  {
   "cell_type": "markdown",
   "metadata": {},
   "source": [
    "to find the count off alphabets , whitespaces,numbers,special chars"
   ]
  },
  {
   "cell_type": "code",
   "execution_count": null,
   "metadata": {},
   "outputs": [],
   "source": [
    "import re\n",
    "str = input()\n",
    "white_spaces= str.count(\" \")\n",
    "print(white_spaces)\n",
    "char=re.findall('[a-zA-Z]',str)\n",
    "print(len(char))\n",
    "digits=re.findall('[0-9]',str)\n",
    "print(len(digits))\n",
    "special= len(str)-len(char)-len(digits)-white_spaces\n",
    "print((special))\n"
   ]
  }
 ],
 "metadata": {
  "kernelspec": {
   "display_name": "Python 3",
   "language": "python",
   "name": "python3"
  },
  "language_info": {
   "codemirror_mode": {
    "name": "ipython",
    "version": 3
   },
   "file_extension": ".py",
   "mimetype": "text/x-python",
   "name": "python",
   "nbconvert_exporter": "python",
   "pygments_lexer": "ipython3",
   "version": "3.7.6"
  }
 },
 "nbformat": 4,
 "nbformat_minor": 4
}
