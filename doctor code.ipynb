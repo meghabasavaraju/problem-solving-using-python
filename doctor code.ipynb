{
 "cells": [
  {
   "cell_type": "markdown",
   "metadata": {},
   "source": [
    "doctor has a clinic where he serves his patients , the doctor consultation's fees is diffrent for diffrent group of patients depending on their age.\n",
    "if the patient age is  below 17, fees is  200INR, if the patient age is below 17 to 40 , fee is 400 INR, if the patient age is above 40 , fee is 300\n",
    "write a code to calculate earning in a day\n",
    "age cant be above 120 \n",
    "and doctor can consult only 20 patient in a day"
   ]
  },
  {
   "cell_type": "code",
   "execution_count": 2,
   "metadata": {},
   "outputs": [
    {
     "name": "stdout",
     "output_type": "stream",
     "text": [
      "enter the no of patients6\n",
      "enter the age: 14\n",
      "enter the age: 45\n",
      "enter the age: 63\n",
      "enter the age: 12\n",
      "enter the age: 34\n",
      "enter the age: 43\n",
      "total earning is : 1700 INR\n"
     ]
    }
   ],
   "source": [
    "\n",
    "\n",
    "\n",
    "def docapp(num):\n",
    "    amount1=0\n",
    "    amount2=0\n",
    "    amount3=0\n",
    "    count=0\n",
    "    newcount=0\n",
    "    new1count=0\n",
    "    n= int(input(\"enter the no of patients\"))\n",
    "    if n<=21:\n",
    "        \n",
    "        for i in range (n):\n",
    "            age=int(input('enter the age: '))\n",
    "            if (age<17 and age>0):\n",
    "                count=count+1\n",
    "                amount1=count*200\n",
    "            \n",
    "                continue\n",
    "        \n",
    "            elif(age>17 and age<40):\n",
    "                newcount=newcount+1\n",
    "                amount2=newcount*400\n",
    "          \n",
    "                continue\n",
    "        \n",
    "       \n",
    "            elif(age>40 and age<120):\n",
    "                new1count= new1count+1\n",
    "                amount3=new1count*300\n",
    "        \n",
    "           \n",
    "                continue \n",
    "\n",
    "            else:\n",
    "                print(\"invalid age\")\n",
    "                break\n",
    "        amount=amount1+amount2+amount3\n",
    "        print(\"total earning is :\" ,amount,\"INR\")\n",
    "    else:\n",
    "        print(\"no of patients can't be more than 20 \")\n",
    "docapp(1)"
   ]
  },
  {
   "cell_type": "markdown",
   "metadata": {},
   "source": [
    "# "
   ]
  },
  {
   "cell_type": "code",
   "execution_count": null,
   "metadata": {},
   "outputs": [],
   "source": []
  }
 ],
 "metadata": {
  "kernelspec": {
   "display_name": "Python 3",
   "language": "python",
   "name": "python3"
  },
  "language_info": {
   "codemirror_mode": {
    "name": "ipython",
    "version": 3
   },
   "file_extension": ".py",
   "mimetype": "text/x-python",
   "name": "python",
   "nbconvert_exporter": "python",
   "pygments_lexer": "ipython3",
   "version": "3.7.6"
  }
 },
 "nbformat": 4,
 "nbformat_minor": 4
}
