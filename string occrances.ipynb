{
 "cells": [
  {
   "cell_type": "markdown",
   "metadata": {},
   "source": [
    "to count the number of occurance of string 2 in string1 "
   ]
  },
  {
   "cell_type": "code",
   "execution_count": 9,
   "metadata": {},
   "outputs": [
    {
     "name": "stdout",
     "output_type": "stream",
     "text": [
      "yymmyymmyy\n",
      "yy\n",
      "y\n",
      "m\n",
      "y\n",
      "m\n",
      "y\n",
      "m\n",
      "y\n",
      "m\n",
      "y\n",
      "m\n",
      "y\n",
      "m\n",
      "3\n"
     ]
    }
   ],
   "source": [
    "str1=input().casefold()\n",
    "str2=input().casefold()\n",
    "\n",
    "def countocc(str1,str2):\n",
    "    len1=len(str1)\n",
    "    len2=len(str2)\n",
    "    count=0\n",
    "    for i in range(len1-len2+1):\n",
    "        j=0\n",
    "        while j<len2:\n",
    "            if str1[i+j]!=str2[j]:\n",
    "                print(str2[j])\n",
    "                print(str1[i+j])\n",
    "                break\n",
    "                \n",
    "            j=j+1\n",
    "        if j== len2:\n",
    "            count=count+1\n",
    "            j=0\n",
    "    return count\n",
    "print(countocc(str1,str2))\n",
    "            \n"
   ]
  },
  {
   "cell_type": "code",
   "execution_count": 3,
   "metadata": {},
   "outputs": [
    {
     "name": "stdout",
     "output_type": "stream",
     "text": [
      "24\n"
     ]
    },
    {
     "ename": "NameError",
     "evalue": "name 'yy' is not defined",
     "output_type": "error",
     "traceback": [
      "\u001b[1;31m---------------------------------------------------------------------------\u001b[0m",
      "\u001b[1;31mNameError\u001b[0m                                 Traceback (most recent call last)",
      "\u001b[1;32m<ipython-input-3-951d967a44eb>\u001b[0m in \u001b[0;36m<module>\u001b[1;34m\u001b[0m\n\u001b[0;32m      1\u001b[0m \u001b[0mprint\u001b[0m\u001b[1;33m(\u001b[0m\u001b[0mlen\u001b[0m\u001b[1;33m(\u001b[0m\u001b[1;34m'myyyygodmygodmygodmyyyyy'\u001b[0m\u001b[1;33m)\u001b[0m\u001b[1;33m)\u001b[0m\u001b[1;33m\u001b[0m\u001b[1;33m\u001b[0m\u001b[0m\n\u001b[1;32m----> 2\u001b[1;33m \u001b[0myy\u001b[0m\u001b[1;33m\u001b[0m\u001b[1;33m\u001b[0m\u001b[0m\n\u001b[0m",
      "\u001b[1;31mNameError\u001b[0m: name 'yy' is not defined"
     ]
    }
   ],
   "source": []
  },
  {
   "cell_type": "code",
   "execution_count": null,
   "metadata": {},
   "outputs": [],
   "source": [
    "24-2+1\n"
   ]
  }
 ],
 "metadata": {
  "kernelspec": {
   "display_name": "Python 3",
   "language": "python",
   "name": "python3"
  },
  "language_info": {
   "codemirror_mode": {
    "name": "ipython",
    "version": 3
   },
   "file_extension": ".py",
   "mimetype": "text/x-python",
   "name": "python",
   "nbconvert_exporter": "python",
   "pygments_lexer": "ipython3",
   "version": "3.7.6"
  }
 },
 "nbformat": 4,
 "nbformat_minor": 4
}
