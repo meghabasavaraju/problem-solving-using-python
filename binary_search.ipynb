{
 "cells": [
  {
   "cell_type": "code",
   "execution_count": 2,
   "metadata": {},
   "outputs": [
    {
     "name": "stdout",
     "output_type": "stream",
     "text": [
      "enter the no of items in list5\n",
      "enter the number4\n",
      "[4]\n",
      "enter the number6\n",
      "[4, 6]\n",
      "enter the number7\n",
      "[4, 6, 7]\n",
      "enter the number9\n",
      "[4, 6, 7, 9]\n",
      "enter the number98\n",
      "[4, 6, 7, 9, 98]\n",
      "65\n"
     ]
    },
    {
     "data": {
      "text/plain": [
       "False"
      ]
     },
     "execution_count": 2,
     "metadata": {},
     "output_type": "execute_result"
    }
   ],
   "source": [
    "data=[]\n",
    "n=int(input(\"enter the no of items in list\"))\n",
    "for i in range(n):\n",
    "    data.append(int(input(\"enter the item to be added in list\")))\n",
    "    print(data)\n",
    "target=int(input(\"enter target data\"))\n",
    "def linear_search(data,target):\n",
    "    for i in range(len(data)):\n",
    "        if data[i] == target:\n",
    "            print('target',target,'found')\n",
    "            return True\n",
    "    return False\n",
    "linear_search(data,target)"
   ]
  },
  {
   "cell_type": "code",
   "execution_count": null,
   "metadata": {},
   "outputs": [],
   "source": [
    "data=[2,4,5,6,543,34,34,24,19,11,12,13,145,43]\n",
    "target=int(input())\n",
    "def binary_search_iterative(data,target):\n",
    "    low=0\n",
    "    high=len(data)\n",
    "  \n",
    "    while low<=high:\n",
    "  \n",
    "        mid=(low+high)//2\n",
    "       \n",
    "        if target== data[mid]:\n",
    "            \n",
    "            return True\n",
    "    return false\n",
    "binary_search_iterative(data,target)\n"
   ]
  },
  {
   "cell_type": "code",
   "execution_count": null,
   "metadata": {},
   "outputs": [],
   "source": []
  }
 ],
 "metadata": {
  "kernelspec": {
   "display_name": "Python 3",
   "language": "python",
   "name": "python3"
  },
  "language_info": {
   "codemirror_mode": {
    "name": "ipython",
    "version": 3
   },
   "file_extension": ".py",
   "mimetype": "text/x-python",
   "name": "python",
   "nbconvert_exporter": "python",
   "pygments_lexer": "ipython3",
   "version": "3.7.6"
  }
 },
 "nbformat": 4,
 "nbformat_minor": 4
}
